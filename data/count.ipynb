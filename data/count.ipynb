{
 "cells": [
  {
   "cell_type": "code",
   "execution_count": 131,
   "metadata": {},
   "outputs": [],
   "source": [
    "import csv\n",
    "import pandas as pd\n",
    "import numpy as np\n",
    "\n",
    "def convert_str_to_list_or_tuple(val):\n",
    "        try:\n",
    "            return eval(val)\n",
    "        except:\n",
    "            return val\n",
    "\n",
    "df_group = pd.read_csv(\"../data/fun_group.csv\")\n",
    "group_name = df_group['GroupName'].apply(convert_str_to_list_or_tuple)\n",
    "\n",
    "with open(\"../data/test_output.csv\", 'r', newline='', encoding='utf-8') as csvfile:\n",
    "        reader = csv.DictReader(csvfile)\n",
    "        index = np.zeros((3577, len(group_name)))\n",
    "        for i, row in enumerate(reader):\n",
    "            for j, group in enumerate(group_name):\n",
    "                index[i, j] = row[group]\n",
    "\n"
   ]
  },
  {
   "cell_type": "code",
   "execution_count": 132,
   "metadata": {},
   "outputs": [
    {
     "name": "stdout",
     "output_type": "stream",
     "text": [
      "483\n"
     ]
    }
   ],
   "source": [
    "import numpy as np\n",
    "\n",
    "\n",
    "# 统计每行中 1 的个数\n",
    "list1 = np.sum(index == 1, axis=1)\n",
    "\n",
    "no_one = np.where(list1 == 0)\n",
    "print(np.sum(list1 == 0))"
   ]
  },
  {
   "cell_type": "code",
   "execution_count": 133,
   "metadata": {},
   "outputs": [
    {
     "data": {
      "text/plain": [
       "array([ 181,  432, 2402, 3245])"
      ]
     },
     "execution_count": 133,
     "metadata": {},
     "output_type": "execute_result"
    }
   ],
   "source": [
    "def contain_i(i):\n",
    "    indices = np.where(index[:, i] == 1)[0]\n",
    "    return indices\n",
    "contain_i(9)"
   ]
  },
  {
   "cell_type": "code",
   "execution_count": 138,
   "metadata": {},
   "outputs": [
    {
     "name": "stdout",
     "output_type": "stream",
     "text": [
      "[5731, 6438, 88950, 6552, 21106533, 7069, 7510, 7630, 7634, 7635, 7652, 63892, 63893, 8023, 60370, 60395, 8056, 29003, 60585, 60894, 21106178, 61203]\n"
     ]
    }
   ],
   "source": [
    "import pandas as pd\n",
    "\n",
    "def convert_str_to_list_or_tuple(val):\n",
    "        try:\n",
    "            return eval(val)\n",
    "        except:\n",
    "            return val\n",
    "\n",
    "df_molecule = pd.read_csv(\"test_output.csv\")\n",
    "group_name = df_molecule['ChemSpiderID'].apply(convert_str_to_list_or_tuple)\n",
    "def chemspiderid_list(i):\n",
    "     ci = contain_i(i)\n",
    "     return [group_name[j] for j in ci]\n",
    "print(chemspiderid_list(16))"
   ]
  },
  {
   "cell_type": "code",
   "execution_count": 135,
   "metadata": {},
   "outputs": [
    {
     "name": "stdout",
     "output_type": "stream",
     "text": [
      "[ 538   53  204  511   61  365  520  145   36    4 1254  359   17   48\n",
      "    2  905   22   33   21  305  228   36   11  121 1603    0]\n"
     ]
    }
   ],
   "source": [
    "# 统计每行中 1 的个数\n",
    "list2 = np.sum(index == 1, axis=0)\n",
    "print(list2)"
   ]
  },
  {
   "cell_type": "code",
   "execution_count": 136,
   "metadata": {},
   "outputs": [
    {
     "data": {
      "text/plain": [
       "array([], dtype=int64)"
      ]
     },
     "execution_count": 136,
     "metadata": {},
     "output_type": "execute_result"
    }
   ],
   "source": [
    "def group_i(i):\n",
    "    indices = np.where(index[i, :] == 1)[0]\n",
    "    return indices\n",
    "group_i(182)"
   ]
  },
  {
   "cell_type": "markdown",
   "metadata": {},
   "source": []
  }
 ],
 "metadata": {
  "kernelspec": {
   "display_name": "myenv",
   "language": "python",
   "name": "python3"
  },
  "language_info": {
   "codemirror_mode": {
    "name": "ipython",
    "version": 3
   },
   "file_extension": ".py",
   "mimetype": "text/x-python",
   "name": "python",
   "nbconvert_exporter": "python",
   "pygments_lexer": "ipython3",
   "version": "3.10.15"
  }
 },
 "nbformat": 4,
 "nbformat_minor": 2
}
