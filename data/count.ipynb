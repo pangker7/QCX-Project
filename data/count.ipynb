{
 "cells": [
  {
   "cell_type": "code",
   "execution_count": 1,
   "metadata": {},
   "outputs": [],
   "source": [
    "import csv\n",
    "import pandas as pd\n",
    "import numpy as np\n",
    "\n",
    "def convert_str_to_list_or_tuple(val):\n",
    "        try:\n",
    "            return eval(val)\n",
    "        except:\n",
    "            return val\n",
    "\n",
    "df_group = pd.read_csv(\"fun_group.csv\")\n",
    "group_name = df_group['GroupName'].apply(convert_str_to_list_or_tuple)\n",
    "\n",
    "with open(\"molecule_info_classified.csv\", 'r', newline='', encoding='utf-8') as csvfile:\n",
    "        reader = csv.DictReader(csvfile)\n",
    "        index = np.zeros((3577, len(group_name)))\n",
    "        for i, row in enumerate(reader):\n",
    "            for j, group in enumerate(group_name):\n",
    "                index[i, j] = row[group]\n",
    "\n"
   ]
  },
  {
   "cell_type": "code",
   "execution_count": 2,
   "metadata": {},
   "outputs": [
    {
     "name": "stdout",
     "output_type": "stream",
     "text": [
      "457\n"
     ]
    }
   ],
   "source": [
    "import numpy as np\n",
    "\n",
    "\n",
    "# 统计每行中 1 的个数\n",
    "list1 = np.sum(index == 1, axis=1)\n",
    "\n",
    "no_one = np.where(list1 == 0)\n",
    "print(np.sum(list1 == 0))"
   ]
  },
  {
   "cell_type": "code",
   "execution_count": 3,
   "metadata": {},
   "outputs": [
    {
     "data": {
      "text/plain": [
       "array([  47,  181,  432, 1759, 2248, 2255, 2402, 2941, 3245])"
      ]
     },
     "execution_count": 3,
     "metadata": {},
     "output_type": "execute_result"
    }
   ],
   "source": [
    "def contain_i(i):\n",
    "    indices = np.where(index[:, i] == 1)[0]\n",
    "    return indices\n",
    "contain_i(9)"
   ]
  },
  {
   "cell_type": "code",
   "execution_count": 4,
   "metadata": {},
   "outputs": [
    {
     "name": "stdout",
     "output_type": "stream",
     "text": [
      "[592, 5555, 5556, 5561, 5562, 59509, 2157, 10801689, 5582, 5583, 5606, 5607, 5612, 5614, 2798, 54922, 5653, 5709, 730, 5735, 5736, 141, 5745, 5746, 30572, 5747, 60997, 5771, 4742, 149962, 3288, 4447518, 853, 913, 5824, 5826, 5833, 548, 4444105, 2063, 5880, 5882, 5891, 5907, 5910, 171, 5050, 4488, 395338, 238, 942, 5970, 5972, 2945, 331, 6018, 6026, 6031, 6038, 6050, 6051, 6066, 6082, 6175, 6177, 6178, 10800462, 6220, 58472, 305, 737, 6341, 96860, 3951, 56121, 10771217, 6403, 111629, 200, 6422, 192176, 59845, 59861, 59865, 6446, 59891, 6482, 193196, 6546, 6554, 59933, 59934, 4641, 6583, 6586, 59955, 6601, 1925, 780, 392277, 10251740, 6674, 6675, 6682, 6691, 15942, 992, 1037, 6698, 59999, 60009, 60010, 6705, 34733, 6706, 3933, 1446, 6745, 6754, 4143, 60039, 4233, 6785, 6837, 60090, 6867, 6872, 6885, 6886, 1435, 60105, 60106, 6928, 6935, 1441, 6936, 2297300, 7064, 789, 193317, 7071, 7125, 7127, 7135, 993, 14220, 198, 60197, 60201, 88395, 7190, 132, 10181338, 7208, 7212, 60221, 7261, 21159437, 91781, 56701, 59416, 60259, 10181341, 60262, 7406, 7469, 7501, 134, 259, 7611, 234, 6267, 1057, 7701, 30037, 1078, 392248, 10197150, 5289148, 558605, 723, 7797, 7803, 376, 7805, 5004, 60338, 29125, 21079, 29152, 9180, 9181, 60959, 64234, 8640, 64236, 76512, 5602481, 826, 434, 11565, 10363, 3324, 61606, 411, 591, 389029, 11563, 12598, 7888, 10771160, 393217, 7923, 4444561, 14737253, 391379, 8012, 8030, 60377, 60388, 8054, 60396, 8070, 8071, 222, 60414, 8099, 60420, 8102, 8115, 8120, 71282, 8155, 60484, 8164, 8182, 18107, 28968, 60494, 24438, 28988, 28997, 11091, 29017, 2179, 191, 370, 91985, 58828530, 60518, 29104, 1031, 8228, 8256, 4445339, 8286, 8289, 8298, 8309, 8310, 60586, 55034, 60597, 11341369, 60638, 60639, 980, 2006073, 8410, 8415, 8428, 60652, 8487, 393218, 8524, 844, 362, 60670, 8552, 8557, 88390, 8573, 3756, 4938351, 10205670, 60688, 388726, 394447, 128566, 5248, 60692, 60612, 8373, 361, 953, 8431, 969, 8443, 8707, 60752, 972, 124, 64224, 740, 55053, 8931, 428, 8957, 582, 597, 8974, 8983, 2006502, 388363, 2026, 1675, 60864, 60867, 64231, 9073, 9075, 19964, 388617, 834, 945, 50, 60937, 61006, 61014, 64237, 9357, 9367, 9394, 61135, 61138, 61139, 61144, 61150, 10200426, 9413, 2058440, 2018200, 454438, 2018199, 9454, 56147, 9515, 769, 9547, 454604, 89574, 759, 61294, 9569, 9572, 9574, 91500, 89588]\n"
     ]
    }
   ],
   "source": [
    "import pandas as pd\n",
    "\n",
    "def convert_str_to_list_or_tuple(val):\n",
    "        try:\n",
    "            return eval(val)\n",
    "        except:\n",
    "            return val\n",
    "\n",
    "df_molecule = pd.read_csv(\"molecule_info_classified.csv\")\n",
    "molecule_name = df_molecule['ChemSpiderID'].apply(convert_str_to_list_or_tuple)\n",
    "molecule_vertice = df_molecule['VerticeSet'].apply(convert_str_to_list_or_tuple)\n",
    "\n",
    "def chemspiderid_list(i):\n",
    "     ci = contain_i(i)\n",
    "     return [molecule_name[j] for j in ci]\n",
    "\n",
    "def qubit_num(i):\n",
    "     ci = contain_i(i)\n",
    "     return [molecule_name[j] for j in ci]\n",
    "\n",
    "print(chemspiderid_list(11))"
   ]
  },
  {
   "cell_type": "code",
   "execution_count": 5,
   "metadata": {},
   "outputs": [
    {
     "name": "stdout",
     "output_type": "stream",
     "text": [
      "[ 537   52  316  463   55  365  473  138   36    9 1252  358   17   48\n",
      "    2  537   22   12   21   89  196   36   11  122 1486   82]\n"
     ]
    }
   ],
   "source": [
    "# 统计每行中 1 的个数\n",
    "list2 = np.sum(index == 1, axis=0)\n",
    "print(list2)"
   ]
  },
  {
   "cell_type": "markdown",
   "metadata": {},
   "source": []
  }
 ],
 "metadata": {
  "kernelspec": {
   "display_name": "myenv",
   "language": "python",
   "name": "python3"
  },
  "language_info": {
   "codemirror_mode": {
    "name": "ipython",
    "version": 3
   },
   "file_extension": ".py",
   "mimetype": "text/x-python",
   "name": "python",
   "nbconvert_exporter": "python",
   "pygments_lexer": "ipython3",
   "version": "3.10.15"
  }
 },
 "nbformat": 4,
 "nbformat_minor": 2
}
