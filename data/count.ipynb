{
 "cells": [
  {
   "cell_type": "code",
   "execution_count": 735,
   "metadata": {},
   "outputs": [],
   "source": [
    "import csv\n",
    "import pandas as pd\n",
    "import numpy as np\n",
    "\n",
    "def convert_str_to_list_or_tuple(val):\n",
    "        try:\n",
    "            return eval(val)\n",
    "        except:\n",
    "            return val\n",
    "\n",
    "df_group = pd.read_csv(\"fun_group.csv\")\n",
    "group_name = df_group['GroupName'].apply(convert_str_to_list_or_tuple)\n",
    "group_vertice = df_group['VerticeSet'].apply(convert_str_to_list_or_tuple)\n",
    "\n",
    "with open(\"molecule_info_classified.csv\", 'r', newline='', encoding='utf-8') as csvfile:\n",
    "        reader = csv.DictReader(csvfile)\n",
    "        index = np.zeros((3577, len(group_name)))\n",
    "        for i, row in enumerate(reader):\n",
    "            for j, group in enumerate(group_name):\n",
    "                index[i, j] = row[group]\n",
    "\n"
   ]
  },
  {
   "cell_type": "code",
   "execution_count": 736,
   "metadata": {},
   "outputs": [
    {
     "name": "stdout",
     "output_type": "stream",
     "text": [
      "457\n"
     ]
    }
   ],
   "source": [
    "import numpy as np\n",
    "\n",
    "\n",
    "# 统计每行中 1 的个数\n",
    "list1 = np.sum(index == 1, axis=1)\n",
    "\n",
    "no_one = np.where(list1 == 0)\n",
    "print(np.sum(list1 == 0))"
   ]
  },
  {
   "cell_type": "code",
   "execution_count": 737,
   "metadata": {},
   "outputs": [],
   "source": [
    "def contain_i(i):\n",
    "    indices = np.where(index[:, i] == 1)[0]\n",
    "    return indices\n",
    "def not_contain_i(i):\n",
    "    indices = np.where(index[:, i] == 0)[0]\n",
    "    return indices"
   ]
  },
  {
   "cell_type": "code",
   "execution_count": 738,
   "metadata": {},
   "outputs": [
    {
     "name": "stdout",
     "output_type": "stream",
     "text": [
      "[592, 5555, 5556, 5561, 5562, 59509, 2157, 10801689, 5582, 5583, 5606, 5607, 5612, 5614, 2798, 54922, 5653, 5709, 730, 5735, 5736, 141, 5745, 5746, 30572, 5747, 60997, 5771, 4742, 149962, 3288, 4447518, 853, 913, 5824, 5826, 5833, 548, 4444105, 2063, 5880, 5882, 5891, 5907, 5910, 171, 5050, 4488, 395338, 238, 942, 5970, 5972, 2945, 331, 6018, 6026, 6031, 6038, 6050, 6051, 6066, 6082, 6175, 6177, 6178, 10800462, 6220, 58472, 305, 737, 6341, 96860, 3951, 56121, 10771217, 6403, 111629, 200, 6422, 192176, 59845, 59861, 59865, 6446, 59891, 6482, 193196, 6546, 6554, 59933, 59934, 4641, 6583, 6586, 59955, 6601, 1925, 780, 392277, 10251740, 6674, 6675, 6682, 6691, 15942, 992, 1037, 6698, 59999, 60009, 60010, 6705, 34733, 6706, 3933, 1446, 6745, 6754, 4143, 60039, 4233, 6785, 6837, 60090, 6867, 6872, 6885, 6886, 1435, 60105, 60106, 6928, 6935, 1441, 6936, 2297300, 7064, 789, 193317, 7071, 7125, 7127, 7135, 993, 14220, 198, 60197, 60201, 88395, 7190, 132, 10181338, 7208, 7212, 60221, 7261, 21159437, 91781, 56701, 59416, 60259, 10181341, 60262, 7406, 7469, 7501, 134, 259, 7611, 234, 6267, 1057, 7701, 30037, 1078, 392248, 10197150, 5289148, 558605, 723, 7797, 7803, 376, 7805, 5004, 60338, 29125, 21079, 29152, 9180, 9181, 60959, 64234, 8640, 64236, 76512, 5602481, 826, 434, 11565, 10363, 3324, 61606, 411, 591, 389029, 11563, 12598, 7888, 10771160, 393217, 7923, 4444561, 14737253, 391379, 8012, 8030, 60377, 60388, 8054, 60396, 8070, 8071, 222, 60414, 8099, 60420, 8102, 8115, 8120, 71282, 8155, 60484, 8164, 8182, 18107, 28968, 60494, 24438, 28988, 28997, 11091, 29017, 2179, 191, 370, 91985, 58828530, 60518, 29104, 1031, 8228, 8256, 4445339, 8286, 8289, 8298, 8309, 8310, 60586, 55034, 60597, 11341369, 60638, 60639, 980, 2006073, 8410, 8415, 8428, 60652, 8487, 393218, 8524, 844, 362, 60670, 8552, 8557, 88390, 8573, 3756, 4938351, 10205670, 60688, 388726, 394447, 128566, 5248, 60692, 60612, 8373, 361, 953, 8431, 969, 8443, 8707, 60752, 972, 124, 64224, 740, 55053, 8931, 428, 8957, 582, 597, 8974, 8983, 2006502, 388363, 2026, 1675, 60864, 60867, 64231, 9073, 9075, 19964, 388617, 834, 945, 50, 60937, 61006, 61014, 64237, 9357, 9367, 9394, 61135, 61138, 61139, 61144, 61150, 10200426, 9413, 2058440, 2018200, 454438, 2018199, 9454, 56147, 9515, 769, 9547, 454604, 89574, 759, 61294, 9569, 9572, 9574, 91500, 89588]\n",
      "[9.0, 12.0, 12.0, 12.0, 12.0, 12.0, 12.0, 12.0, 12.0, 12.0, 12.0, 12.0, 12.0, 15.0, 12.0, 9.0, 9.0, 12.0, 9.0, 9.0, 9.0, 12.0, 12.0, 12.0, 12.0, 12.0, 12.0, 15.0, 15.0, 12.0, 15.0, 15.0, 12.0, 12.0, 12.0, 15.0, 12.0, 12.0, 15.0, 12.0, 12.0, 12.0, 9.0, 12.0, 12.0, 6.0, 9.0, 12.0, 12.0, 12.0, 12.0, 12.0, 15.0, 15.0, 12.0, 15.0, 12.0, 12.0, 12.0, 9.0, 9.0, 12.0, 12.0, 9.0, 9.0, 9.0, 9.0, 15.0, 18.0, 12.0, 9.0, 9.0, 9.0, 9.0, 9.0, 9.0, 9.0, 9.0, 9.0, 15.0, 15.0, 15.0, 18.0, 15.0, 15.0, 12.0, 12.0, 15.0, 12.0, 15.0, 15.0, 15.0, 15.0, 12.0, 12.0, 15.0, 12.0, 15.0, 12.0, 12.0, 9.0, 12.0, 12.0, 12.0, 12.0, 12.0, 12.0, 12.0, 12.0, 12.0, 12.0, 12.0, 12.0, 12.0, 12.0, 12.0, 12.0, 12.0, 15.0, 15.0, 15.0, 12.0, 12.0, 12.0, 12.0, 12.0, 12.0, 12.0, 12.0, 12.0, 12.0, 12.0, 12.0, 12.0, 12.0, 12.0, 12.0, 9.0, 12.0, 12.0, 15.0, 12.0, 12.0, 12.0, 12.0, 12.0, 12.0, 12.0, 12.0, 12.0, 12.0, 12.0, 12.0, 12.0, 12.0, 12.0, 12.0, 15.0, 15.0, 15.0, 12.0, 12.0, 12.0, 12.0, 12.0, 9.0, 15.0, 12.0, 9.0, 9.0, 9.0, 9.0, 9.0, 9.0, 9.0, 9.0, 9.0, 9.0, 15.0, 9.0, 12.0, 12.0, 12.0, 12.0, 12.0, 12.0, 12.0, 9.0, 12.0, 15.0, 15.0, 15.0, 15.0, 9.0, 9.0, 12.0, 12.0, 15.0, 12.0, 12.0, 12.0, 12.0, 12.0, 12.0, 12.0, 12.0, 12.0, 12.0, 12.0, 12.0, 12.0, 15.0, 15.0, 15.0, 15.0, 15.0, 9.0, 12.0, 12.0, 15.0, 12.0, 15.0, 12.0, 12.0, 12.0, 12.0, 12.0, 12.0, 15.0, 12.0, 12.0, 12.0, 12.0, 15.0, 12.0, 12.0, 12.0, 15.0, 12.0, 12.0, 12.0, 9.0, 9.0, 12.0, 12.0, 12.0, 12.0, 12.0, 15.0, 15.0, 9.0, 9.0, 15.0, 15.0, 15.0, 15.0, 12.0, 12.0, 12.0, 12.0, 12.0, 15.0, 15.0, 15.0, 12.0, 12.0, 12.0, 12.0, 12.0, 12.0, 12.0, 15.0, 12.0, 15.0, 9.0, 9.0, 9.0, 15.0, 9.0, 12.0, 15.0, 12.0, 12.0, 15.0, 9.0, 15.0, 12.0, 12.0, 9.0, 12.0, 15.0, 15.0, 12.0, 12.0, 12.0, 12.0, 12.0, 15.0, 12.0, 12.0, 12.0, 12.0, 12.0, 9.0, 9.0, 12.0, 9.0, 15.0, 9.0, 9.0, 12.0, 12.0, 12.0, 12.0, 12.0, 12.0, 15.0, 18.0, 9.0, 12.0, 12.0, 12.0, 12.0, 12.0, 12.0, 12.0, 12.0, 12.0, 12.0, 12.0, 9.0, 12.0, 12.0, 15.0, 15.0, 18.0, 12.0, 12.0, 9.0, 12.0, 12.0, 12.0, 12.0, 12.0, 12.0, 12.0, 12.0, 12.0, 12.0, 12.0, 12.0, 12.0, 12.0, 12.0, 12.0, 12.0, 12.0, 12.0]\n",
      "[ 0.  0.  0.  0.  1.  7. 18. 17. 17. 33. 32. 41. 46. 33. 20. 10. 10.  4.\n",
      "  4.  7.  6.  9.  2.  2.  7.  7.  4.  2.  2.  4.  3.  2.]\n",
      "[4. 1. 0. 0. 1. 1. 0. 0. 0. 0. 0. 1. 0. 0. 0. 0. 0. 0. 0. 0. 0. 0. 0. 0.\n",
      " 0. 0. 0. 0. 0. 0. 0. 0.]\n"
     ]
    }
   ],
   "source": [
    "import pandas as pd\n",
    "\n",
    "def convert_str_to_list_or_tuple(val):\n",
    "        try:\n",
    "            return eval(val)\n",
    "        except:\n",
    "            return val\n",
    "\n",
    "df_molecule = pd.read_csv(\"molecule_info_classified.csv\")\n",
    "molecule_name = df_molecule['ChemSpiderID'].apply(convert_str_to_list_or_tuple)\n",
    "molecule_vertice = df_molecule['VerticeSet'].apply(convert_str_to_list_or_tuple)\n",
    "\n",
    "def chemspiderid_list(i):\n",
    "     ci = contain_i(i)\n",
    "     return [molecule_name[j] for j in ci]\n",
    "\n",
    "def qubit_num(i):\n",
    "     ci = contain_i(i)\n",
    "     return [3 * np.ceil(np.log2(len(molecule_vertice[j]))) for j in ci]\n",
    "\n",
    "print(chemspiderid_list(11))\n",
    "print(qubit_num(11))\n",
    "counter_list = np.zeros(64)\n",
    "for i in contain_i(11):\n",
    "     counter_list[len(molecule_vertice[i])] += 1\n",
    "print(counter_list[:32])\n",
    "print(counter_list[-32:])"
   ]
  },
  {
   "cell_type": "code",
   "execution_count": 739,
   "metadata": {},
   "outputs": [
    {
     "name": "stdout",
     "output_type": "stream",
     "text": [
      "[  0.   1.  14.  25.  72. 136. 182. 175. 246. 293. 286. 290. 280. 205.\n",
      " 184. 150. 121. 103. 103.  88. 105.  65.  55.  51.  59.  40.  43.  18.\n",
      "  36.  27.  21.  10.]\n",
      "[17. 13.  8.  8. 11.  2.  5.  1.  4.  0.  2.  2.  3.  1.  0.  2.  2.  1.\n",
      "  2.  3.  1.  1.  1.  0.  0.  0.  1.  0.  0.  0.  0.  2.]\n"
     ]
    }
   ],
   "source": [
    "counter_list = np.zeros(64)\n",
    "for i in range(3577):\n",
    "     counter_list[len(molecule_vertice[i])] += 1\n",
    "print(counter_list[:32])\n",
    "print(counter_list[-32:])"
   ]
  },
  {
   "cell_type": "code",
   "execution_count": 740,
   "metadata": {},
   "outputs": [],
   "source": [
    "import random\n",
    "import json\n",
    "def all(size, lst):\n",
    "    list1 = []\n",
    "    for i in lst:\n",
    "        if len(molecule_vertice[i]) == size:\n",
    "            list1.append(i)\n",
    "    return list1\n",
    "def sample_from_list(lst, lenth):\n",
    "    if len(lst) <= lenth:\n",
    "        return lst  # 列表大小小于等于10，返回整个列表\n",
    "    else:\n",
    "        return random.sample(lst, lenth)  # 随机抽取10个元素\n",
    "def generate_list(group_id):\n",
    "    lenth = len(group_vertice[group_id])\n",
    "    list1 = []\n",
    "    for i in range(lenth + 1, 33):\n",
    "        list1 += sample_from_list(all(i, contain_i(group_id)), 10)\n",
    "        list1 += sample_from_list(all(i, not_contain_i(group_id)), 10)\n",
    "    for i in range(33, 65):\n",
    "        if lenth <= 2:\n",
    "            list1 += sample_from_list(all(i, contain_i(group_id)), 10)\n",
    "            list1 += sample_from_list(all(i, not_contain_i(group_id)), 10)\n",
    "        else:\n",
    "            list1 += sample_from_list(all(i, contain_i(group_id)), 2)\n",
    "            list1 += sample_from_list(all(i, not_contain_i(group_id)), 1)\n",
    "    return list1\n",
    "\n",
    "\n",
    "import json\n",
    "\n",
    "# 创建一个列表来存储所有的 group 数据\n",
    "all_data = []\n",
    "\n",
    "for group_id in range(26):\n",
    "    data = {}\n",
    "    data[\"group_id\"] = int(group_id)  # 确保 group_id 是 Python 的 int 类型\n",
    "    data[\"group_name\"] = group_name[group_id]\n",
    "    data[\"molecule_id_list\"] = [int(x) for x in generate_list(group_id)]  # 确保列表中的元素是 int 类型\n",
    "    all_data.append(data)  # 将每个数据字典存入列表中\n",
    "\n",
    "# 自定义分隔符，使输出更紧凑，同时保持缩进\n",
    "with open('TSCA_run_data.json', 'w') as json_file:\n",
    "    json.dump(all_data, json_file, indent=4, separators=(',', ': '))\n",
    "\n",
    "\n"
   ]
  },
  {
   "cell_type": "code",
   "execution_count": 741,
   "metadata": {},
   "outputs": [
    {
     "name": "stdout",
     "output_type": "stream",
     "text": [
      "[ 537   52  316  463   55  365  473  138   36    9 1252  358   17   48\n",
      "    2  537   22   12   21   89  196   36   11  122 1486   82]\n"
     ]
    }
   ],
   "source": [
    "# 统计每行中 1 的个数\n",
    "list2 = np.sum(index == 1, axis=0)\n",
    "print(list2)"
   ]
  },
  {
   "cell_type": "markdown",
   "metadata": {},
   "source": [
    "-----------------------"
   ]
  },
  {
   "cell_type": "code",
   "execution_count": null,
   "metadata": {},
   "outputs": [],
   "source": []
  }
 ],
 "metadata": {
  "kernelspec": {
   "display_name": "myenv",
   "language": "python",
   "name": "python3"
  },
  "language_info": {
   "codemirror_mode": {
    "name": "ipython",
    "version": 3
   },
   "file_extension": ".py",
   "mimetype": "text/x-python",
   "name": "python",
   "nbconvert_exporter": "python",
   "pygments_lexer": "ipython3",
   "version": "3.10.15"
  }
 },
 "nbformat": 4,
 "nbformat_minor": 2
}
